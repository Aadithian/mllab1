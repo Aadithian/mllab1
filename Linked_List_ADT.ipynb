{
  "nbformat": 4,
  "nbformat_minor": 0,
  "metadata": {
    "colab": {
      "provenance": [],
      "include_colab_link": true
    },
    "kernelspec": {
      "name": "python3",
      "display_name": "Python 3"
    },
    "language_info": {
      "name": "python"
    },
    "accelerator": "TPU"
  },
  "cells": [
    {
      "cell_type": "markdown",
      "metadata": {
        "id": "view-in-github",
        "colab_type": "text"
      },
      "source": [
        "<a href=\"https://colab.research.google.com/github/Aadithian/mllab1/blob/main/Linked_List_ADT.ipynb\" target=\"_parent\"><img src=\"https://colab.research.google.com/assets/colab-badge.svg\" alt=\"Open In Colab\"/></a>"
      ]
    },
    {
      "cell_type": "markdown",
      "source": [
        "# **Linked List**\n",
        "\n",
        "Linked List is an Abstract Data Type (ADT) that holds a collection of Nodes, the nodes can be accessed in a sequential way. \n",
        "Linked List doesn’t provide a random access to a Node. \n",
        "Nodes are connected to the next node and/or with the previous one, this gives the linked effect. \n",
        "When the Nodes are connected with only the next pointer the list is called Singly Linked List .\n",
        "\n",
        "**Main operations**\n",
        "\n",
        " prepend(value) -> Add a node in the beginning \n",
        " append(value) -> Add a node in the end\n",
        " pop() -> Remove a node from the end \n",
        " popFirst() -> Remove a node from the beginning \n",
        " head() -> Return the first node\n",
        "tail() -> Return the last node remove(Node) -> Remove Node from the list\n",
        "\n",
        "A Linked List can be traversed , is possible to navigate in the list using the nodes next element.\n"
      ],
      "metadata": {
        "id": "ruTginF0Bm4y"
      }
    },
    {
      "cell_type": "markdown",
      "source": [
        "**# A single node of a singly linked list**"
      ],
      "metadata": {
        "id": "FUCI_ywFYBgp"
      }
    },
    {
      "cell_type": "code",
      "source": [
        "class Node:\n",
        "  # constructor\n",
        "  def __init__(self, data, next=None): \n",
        "    self.data = data\n",
        "    self.next = next\n",
        "\n",
        "# Creating a single node\n",
        "first = Node(3)\n",
        "print(first.data)"
      ],
      "metadata": {
        "colab": {
          "base_uri": "https://localhost:8080/"
        },
        "id": "cqeWn_UrYHHJ",
        "outputId": "6fb32f7c-cf34-45d5-dde3-62b5c1af9375"
      },
      "execution_count": 1,
      "outputs": [
        {
          "output_type": "stream",
          "name": "stdout",
          "text": [
            "3\n"
          ]
        }
      ]
    },
    {
      "cell_type": "markdown",
      "source": [],
      "metadata": {
        "id": "cynuaff5YSx2"
      }
    },
    {
      "cell_type": "markdown",
      "source": [
        "**Creation of Linked list**\n",
        "We create a Node object and create another class to use this ode object. We pass the appropriate values through the node object to point the to the next data elements. "
      ],
      "metadata": {
        "id": "Nv-Ff7TYSGXV"
      }
    },
    {
      "cell_type": "code",
      "source": [
        "class Node:\n",
        "   def __init__(self, dataval=None):\n",
        "      self.dataval = dataval\n",
        "      self.nextval = None\n",
        "\n",
        "class SLinkedList:\n",
        "   def __init__(self):\n",
        "      self.headval = None\n",
        "\n",
        "   def listprint(self):\n",
        "      printval = self.headval\n",
        "      while printval is not None:\n",
        "         print (printval.dataval)\n",
        "         printval = printval.nextval\n",
        "\n",
        "list = SLinkedList()\n",
        "list.headval = Node(\"Mon\")\n",
        "e2 = Node(\"Tue\")\n",
        "e3 = Node(\"Wed\")\n",
        "\n",
        "# Link first Node to second node\n",
        "list.headval.nextval = e2\n",
        "\n",
        "# Link second Node to third node\n",
        "e2.nextval = e3\n",
        "\n",
        "list.listprint()"
      ],
      "metadata": {
        "colab": {
          "base_uri": "https://localhost:8080/"
        },
        "id": "DEa5LTNuSVcx",
        "outputId": "14057289-12ea-4cbe-a9f5-18d57367e57f"
      },
      "execution_count": null,
      "outputs": [
        {
          "output_type": "stream",
          "name": "stdout",
          "text": [
            "Mon\n",
            "Tue\n",
            "Wed\n"
          ]
        }
      ]
    },
    {
      "cell_type": "markdown",
      "source": [
        "**Insertion in a Linked List**\n",
        "Inserting element in the linked list involves reassigning the pointers from the existing nodes to the newly inserted node. Depending on whether the new data element is getting inserted at the beginning or at the middle or at the end of the linked list, we have the below scenarios.\n",
        "\n",
        "**Inserting at the Beginning** \n",
        "This involves pointing the next pointer of the new data node to the current head of the linked list. So the current head of the linked list becomes the second data element and the new node becomes the head of the linked list.\n",
        "\n",
        "**Inserting at the End **\n",
        "This involves pointing the next pointer of the the current last node of the linked list to the new data node. So the current last node of the linked list becomes the second last data node and the new node becomes the last node of the linked list."
      ],
      "metadata": {
        "id": "RdWHyUcRT6qi"
      }
    },
    {
      "cell_type": "code",
      "source": [
        "class Node:\n",
        "   def __init__(self, dataval=None):\n",
        "      self.dataval = dataval\n",
        "      self.nextval = None\n",
        "\n",
        "class SLinkedList:\n",
        "   def __init__(self):\n",
        "      self.headval = None\n",
        "\n",
        " # Function to add node at beginning        \n",
        "   def AtBegining(self,newdata):\n",
        "      NewNode = Node(newdata)\n",
        "# Update the new nodes next val to existing node\n",
        "      NewNode.nextval = self.headval\n",
        "      self.headval = NewNode\n",
        "\n",
        "\n",
        "# Function to add newnode at end\n",
        "   def AtEnd(self, newdata):\n",
        "      NewNode = Node(newdata)\n",
        "      if self.headval is None:\n",
        "         self.headval = NewNode\n",
        "         return\n",
        "      laste = self.headval\n",
        "      while(laste.nextval):\n",
        "         laste = laste.nextval\n",
        "      laste.nextval=NewNode\n",
        "\n",
        " # Print the linked list\n",
        "   def listprint(self):\n",
        "      printval = self.headval\n",
        "      while printval is not None:\n",
        "         print (printval.dataval)\n",
        "         printval = printval.nextval \n",
        "\n",
        "list = SLinkedList()\n",
        "list.headval = Node(\"Mon\")\n",
        "e2 = Node(\"Tue\")\n",
        "e3 = Node(\"Wed\")\n",
        "\n",
        "list.headval.nextval = e2\n",
        "e2.nextval = e3 \n",
        "\n",
        "list.AtBegining(\"Sun\")\n",
        "list.listprint()  \n",
        "\n",
        "list.AtEnd(\"Thu\")\n",
        "\n",
        "list.listprint()          \n"
      ],
      "metadata": {
        "colab": {
          "base_uri": "https://localhost:8080/"
        },
        "id": "Uv4X0zZBUAW4",
        "outputId": "8792ce63-574d-4630-c7f0-99369afc2311"
      },
      "execution_count": null,
      "outputs": [
        {
          "output_type": "stream",
          "name": "stdout",
          "text": [
            "Sun\n",
            "Mon\n",
            "Tue\n",
            "Wed\n",
            "Sun\n",
            "Mon\n",
            "Tue\n",
            "Wed\n",
            "Thu\n"
          ]
        }
      ]
    },
    {
      "cell_type": "markdown",
      "source": [
        "**Removing an Item**\n",
        "We can remove an existing node using the key for that node. In the below program we locate the previous node of the node which is to be deleted.Then, point the next pointer of this node to the next node of the node to be deleted."
      ],
      "metadata": {
        "id": "-gbPRzLWXqbx"
      }
    },
    {
      "cell_type": "code",
      "source": [
        "class Node:\n",
        "   def __init__(self, data=None):\n",
        "      self.data = data\n",
        "      self.next = None\n",
        "class SLinkedList:\n",
        "   def __init__(self):\n",
        "      self.head = None\n",
        "\n",
        "   def Atbegining(self, data_in):\n",
        "      NewNode = Node(data_in)\n",
        "      NewNode.next = self.head\n",
        "      self.head = NewNode\n",
        "\n",
        "# Function to remove node\n",
        "   def RemoveNode(self, Removekey):\n",
        "      HeadVal = self.head\n",
        "         \n",
        "      if (HeadVal is not None):\n",
        "         if (HeadVal.data == Removekey):\n",
        "            self.head = HeadVal.next\n",
        "            HeadVal = None\n",
        "            return\n",
        "      while (HeadVal is not None):\n",
        "         if HeadVal.data == Removekey:\n",
        "            break\n",
        "         prev = HeadVal\n",
        "         HeadVal = HeadVal.next\n",
        "\n",
        "      if (HeadVal == None):\n",
        "         return\n",
        "\n",
        "      prev.next = HeadVal.next\n",
        "      HeadVal = None\n",
        "\n",
        "   def LListprint(self):\n",
        "      printval = self.head\n",
        "      while (printval):\n",
        "         print(printval.data),\n",
        "         printval = printval.next\n",
        "\n",
        "llist = SLinkedList()\n",
        "llist.Atbegining(\"Mon\")\n",
        "llist.Atbegining(\"Tue\")\n",
        "llist.Atbegining(\"Wed\")\n",
        "llist.Atbegining(\"Thu\")\n",
        "llist.RemoveNode(\"Tue\")\n",
        "llist.LListprint()"
      ],
      "metadata": {
        "colab": {
          "base_uri": "https://localhost:8080/"
        },
        "id": "CykLIAUvXr60",
        "outputId": "30ca0afa-0653-47cd-e372-2f8636df90cb"
      },
      "execution_count": null,
      "outputs": [
        {
          "output_type": "stream",
          "name": "stdout",
          "text": [
            "Thu\n",
            "Wed\n",
            "Mon\n"
          ]
        }
      ]
    },
    {
      "cell_type": "markdown",
      "source": [
        "Python program to demonstrate \n",
        " stack implementation using a linked list. \n",
        " node class **bold text**\n",
        "\n",
        " ![image.png](data:image/png;base64,iVBORw0KGgoAAAANSUhEUgAAAo4AAAFBCAYAAAD5WC4cAAAgAElEQVR4nO3dd3wUZeLH8ScFUkhCAoRO6F2UqvQIgtKRLqhI/wk27NjPisd56p2IencqSlGwIUVEUNGznaSHkIQQAimk954t398fuymbbLKzyZLdZ/b7zut5ve4yZWc2u+6HmZ1dASIiIiIiBYS9N4CIiIiI5MBwJCIiIiJFGI5EREREpAjDkYiIiIgUYTgSERERkSIMRyIiIiJShOFIRERERIowHImIiIhIEYYjERERESnCcCQiIiIiRRiORERERKQIw5GIiIiIFGE4EhEREZEiDEciIiIiUoThSERERESKMByJiIiISBGGIxEREREpwnAkIiIiIkUYjkRERESkCMORiIiIiBRhOBIRERGRIgxHIiIiIlKE4UhEREREijAciYiIiEgRhiMRERERKcJwJCIiIiJFGI5EREREpAjDkaRUpivD8YLjOJh3kINDmnG04CiyNdn2fvoQETUbw5Gkc77iPHpF9YJfuB9EiODgkGaMix0HnzAfHC04au+nERFRszAcSTpzEuZAhAiGI4d0Y1zsOIgQgS6RXaDRa+z9VCIishrDkaQzO2E2guODcWPcjXYPAQ4Oa8bkuMkIjg9GcHwwkiuT7fxMIiKyHsORpNM+vL3dA4CDo6XjcuVlez+ViIisxnAk6TAcOdQwGI5EJCOGI0nHXDgOiB6A97Lf4+BwuBEcH8xwJCLVYDiSdMyF4+S4yfbeLCKzNl/ezHAkItVgOJJ0GI4kE4YjEakJw5Gkw3AkmTAciUhNGI4kHYYjyYThSERqwnAk6TAcSSYMRyJSE4YjSYfhSDJhOBKRmjAcSToMR5IJw5GI1IThSNJhOJJMGI5EpCYMR5IOw5FkwnAkIjVhOJJ0GI4kE4YjEakJw5Gkw3AkmTAciUhNGI4kHYYjyYThSERqwnAk6TAcSSYMRyJSE4YjSYfhSDJhOBKRmjAcSToMR5IJw5GI1IThSNJhOJJMGI5EpCYMR5IOw5FkwnAkIjVhOJJ0GI4kE4YjEakJw5Gkw3AkmTAciUhNGI4kHYYjyYThSERqwnAk6TAcSSYMRyJSE4YjSYfhSDJhOBKRmjAcSToMR5IJw5GI1IThSNJhOJJMGI5EpCYMR5IOw5FkwnAkIjVhOJJ0GI4kE4YjEakJw5Gkw3AkmTAciUhNGI4kHYYjyYThSERqwnAk6TAcSSYMRyJSE4YjSYfhSDJhOBKRmjAcSToMR5IJw5GI1IThSNJhOJJMGI5EpCYMR5IOw5FkwnAkIjVhOJJ0GI4kE4YjEakJw5Gkw3AkmTAciUhNGI4kHYYjyYThSERqwnAk6TAcSSYMRyJSE4YjSYfhSDJhOBKRmjAcSToMR5IJw5GI1IThSNJhOJJMGI5EpCYMR5IOw5FkwnAkIjVhOJJ0GI4kE4YjEakJw5Gkw3AkmTAciUhNGI4kHYYjyYThSERqwnAk6TAcSSYMRyJSE4YjSYfhSDJhOBKRmjAcSToMR5IJw5GI1IThSNJhOJJMGI5EpCYMR5IOw5FkwnAkIjVhOJJ0GI4kE4YjEakJw5Gkw3AkmTAciUhNGI4kHYYjyYThSERqwnAk6TAcSSYMRyJSE4YjSYfhSDJhOBKRmjAcSToMR5IJw5GI1IThSNJhOJJMGI5EpCYMR5IOw5FkwnAkIjVhOJJ0GI4kE4YjEakJw5Gkw3AkmTAciUhNGI4kHYYjyYThSERqwnAk6TAcSSYMRyJSE4YjSYfhSDJhOBKRmjAcSToMR5IJw5GI1IThSNJhOJJMGI5EpCYMR5IOw5FkwnAkIjVhOJJ0GI4kE4YjEakJw5Gkw3AkmTAciUhNGI4kHYYjyYThSERqwnAk6TAcSSYMRyJSE4YjSYfhSDJhOBKRmjAcSToMR5IJw5GI1IThSNJhOJJMGI5EpCYMR5IOw5FkwnAkIjVhOJJ0GI4kE4YjEakJw5Gkw3AkmTAciUhNGI4knasdjq4hLmZf6DnkH7+X/G6zx4lSDEciUhOGI0nnaoejCHG+p4Uz7PO21G3Ynr691W+X4UhEaqL+VwtSHYaj7TnDPjMciYhaTv2vFqQ6DEfbc4Z9ZjgSEbWc+l8tSHUYjrbnDPvMcCQiajn1v1qQ6jAcbc8Z9pnhSETUcup/tSDVYTjanjPsM8ORiKjl1P9qQapjz3B8Lu05DD47GGPOjXG40SOyB77K/6rF+5xSmYL+0f3tvj8tHcNjhuOptKdq9ovhSETUcgxHko49w7FHZA98mPMhQkpDHG48lPIQFl1Y1OJ93pW1C5PjJtt9f1o6vsz/Ej5hPjX7xXAkImo5hiNJx57hOCJmBKLKoppega4QkfuewoqJ/eDvKiCEgPDqhmtnb8E/f0hDpa2WqWdf7j6surhKwZwN1Q/HzZc3N2s9juRy5WUERQXV/H9nCMf//ve/OHnyJAcHB0eTIyEhodn/nWE4knQcOhw1qfhsdZAh/ISAV48huHbEIHT1MMagaI/Z7yWYhmBzljGD4WjK2cLx+PHjEEJgxowZHBwcHE0OIZqffwxHko7jhqMW6Z/MhpcQEF5T8MLpDFRVT6pMxTcPXQMXISC85+HzLF0LljGP4WjK2cJx3759WLWqeX9/InIuDEdyKg4bjro0fDjBcJTw+l2XoKk/veS/2NhZQAhfrPi+uPnLNILhaIrhSERkHsORnIrDhqO+DMmhP+L44eMIz9U2nK65iH9cKyCEG2YeLmj+Mo2wXzjqkF1wJwJDBIamx9ceMYUeZRWf4KHzg+EfIiBCPNErbjM+Ki+FvnpJ7e944+IYdAkVECFu6HxuJf5enIu6x1aVzGMOw5GIyDyGIzkVhw1HC/Q5h7HEV0CIgfjLWSWXu1i3jL3CUac5ijsjXeFeLxz12p9wd6SAb/zzOFqWivSKn7HrYk+4Rm7CD1o9oE/D/gRfuEZvwp7SS0ivDMX+y0PgHjYbe6qMEa1knkYwHImIzGM4klORLxx1KD5/BM/c6AshBAJv+xxXmm6eZi1jn3DMxrGkbuiU8By2RLubhGNJ8Tp0ChmEF8trg1ev/QZLw70xKy8bVRVvYmRIR6wuKqxdnfZHrIlwxXWZF6ABoFEwT2MYjkRE5jEcyanIEo5F39+FId06w9/TeHV04GiseOk4kps4cNicZaq1fjjqkF2wGt0i5mNfRTReOmsajsVFd8A/5Bq8VlFVZ5FwPB4l0D35T2QUzINnyFQc0OjrrDMHn8W7wTPhCAoAFCqYpzEMRyIi8xiOrU2fjQPT3CCG/RXnqyzPTrYlSzgWfD3dcEW0cbh3vgaz73sXv2c3fuiwOctUa+1w1GmOYXVkB8zNTYFGH9sgHPWar7EkXKBH0n6c1+kBfQ7OZC1BtxAB38TvcD7nBriGLcVJk10rxveJfnCNfR9p0OGKxXkax3AkIjKP4djaSv/Alq6C4WhD+dp8sy+u9hqNsf5UtR6VRemI++ljPHFLF0MQ9t6Ib7KburSjOcu0djgaTlEHJHyEZD0AM+EIaJFV+DSmR1bfr+1xXdLLeDzGBf4Xv8eFRqPQtyYc0y3O0ziGIxGReQzHVqa9/A5GC4ajLdV/kW+KLEccG6i6iPdubAshBPo/FYkKGy/TeuGoQ3bBXegWMQcfVRrfZWg2HGt2AkWaLBTodYDuDLZGuWDQlRhkF8yHd+hUfGpyGjoL++Nc4ZlwzHiq2vI8jWE4EhGZx3BsNQU4fJNrzWnE2jEFn+UaZ9EV4eynT2P5+D7wczFObxuIIdPXYse3l1Fusr4KRD3dD0IIDHguGgUXvsC2ecPR0c14mjLwWtz69CFcLG+4JWrjFOEIPbI+mWx4TIz9F1Isn322apnWC8cCHD7vBhEi4B7aBm1D26BtqKvxb+EKz+h78ZsOgP4Kfsnbi+8qa1Oyouwp9AvpirtLSqGp3IkxoR1wR50LX/Ta41gR7oaxWUmGi2MUzNMYhiMRkXkMx1ZTjpj3HsWmBX0NL+Ttrsequ+/BPQ+/jchSALocnHpgiDEm/TBsxjKsXnM7Fk4MgpsQEMIbN75+FmU166vEuRcHQwiBbne8gBVdBUTAQIybNgszbuiNtsYw7bDsANIURYa81BCOutwf8OSiaZgwaR0Omz2trEf2p8YIvO6fuKhp3jKNab1w1KNck4rkyuTaUfE9Hol2Rf/UH5FYlWf4ekR9DF6McYFP/Cv4viIDaWWf4t4Yd3jG7cQFPQBk4PML/nCN3mj8qJ0z2J3UF67hy/CVpvq+UDKPeQxHIiLzGI6trPj0HfBvcKpaj8LTm9BFCAi3sXjhz0LUnlzTIO2LOw3TxFi8kVC9UBXitg+tOXIZuGwvkmquntUi68Q96CsEhOiJB/6szU01UkM4ovR33N1FQAgPzNiThgatr8/HidsDIISAz5ITKGzuMo2w6zfHNHKquqz8Y2yK7Qr3EAER0gkjE1/DL5ravdRpQ7Azaazxw73boFvsWrxbWve5o2wecxiORETmMRxbmdlw1Ofh8AJvCCHQ/b4/UFp/IW0K/jPRBUIIDH4p1nBEBlWIf9UYji4T8K/ketmgy8SnMw3vb+v1cCjUfMZaFeGIckQ8PdB4NDoYL/6YXhtRugJE/Gs5ugkBITphzakCY/g0Zxnz+JWDphiORETmMRxbmdlwLPsf7u1mOEV9m9nvFK49uuh20+fI0Rt+VxOOI17HhQanITW48PoIw/RJ+5Bp6RCLxNQRjoC+JAI7pnrXHEX26DoII64bhiC/2vfEDrrnW2RpW7aMOQxHUwxHIiLzGI6tzGw45n+NGW4CQgzC8zHmP60574tgw2f0Df8bDGera8PRY943Zk9D5n81zbDM0O2IU/EV3GoJRwBAZRp+fGsLZo3oCq/qC6g8AjEk+A48//k5FJv7B0BzlqmH4WiK4UhEZB7DsZWZC0d99ieYJASEuAZ/v2C+8AqPzUYbISD6P4PoCqBuOLZf9QPMHacsPDbbcJFMzTLqpKpwtBOGoymGIxGReQzHVmb2iGPB15jpJiDEwEaPOOZ+PtVwJGnYq4ivd8TRe9F3KDKzTM0RR5V/ZiTDseUYjqYYjkRE5jEcW5n59zj+ift7CAjhi+WnzCVgJc69MMjw+YwzvoDhYx/rvMdx7L+R2uDTRWrf4+h642fG90WqkyzhGBgRiNczXsfJwpMON9YmrcWCCwtavM+7snZhRMwIu+9P9dibuxcf5Xxk9XLvZ7+PtqFta/aL4UhEZMBwbGU14Ti0+sghABTgxIr2EEKg692/oKT+QpokvD3W8N61kW8mGj+4uE44es7B51n1ylCfhc9meRi+NeSZaGXfNCIpWcLx5fSXMT52PGacn+Fw45qYa3C44HCL9zmlMgWjz422+/5UjwHRA9Anqo/Vy02Om4znrzxfs18MRyIiA4ZjKyv9dSMChYDouAan67wxsfTPh9FHCAiXkXjuj7qfM1eJpL1L0UEICK9bsKfm07zrhKMQ6HfviTpXzupQ8MtjGCIEhOiPpyLVnI3yhKNaOfI+b0/fjm2p21q8HobjVVRwCDe6uGD612a+BLKpaWbXdQQz3VyVz99aHHW7AOvv46ul6ARu9XLBpE+yLX7Oqt058t+zFTAcW5k2bTemGL8WsN2gCZg6eR5ejigH9IX4/enRcBcCQrTHNTffhjVrVmH+9d2NcdgLdx5IqfM1abXh2GHOZkz3E/AcEIwld67Bqrmj0dEYlN3WHEVW01+SIT2Go3058j4zHJWxXTgW4eSSdta9r1qTjfDTpxGRowWgReYPb+Odn7IMH2hvMk0BJS/oFUk4/PwKTOjrD1fjfyfd/Ptjyto38d/s6tuptx0tZW1oaBLxxggBzwXfNvzEjMpYvDRYoN2Sk2bf2241a+9jqzX2dbt1xoDncDab4Wh7Nn4cGzEcW10pzu5ajsHehieMe5dgbK++5Flfgvgvn8eqyf0R4G6Y7uIThHGLH8VHoXn1/vB1wnHNaWTGHcCTS8age/V6A6/D4r98gxTz19qoCsPRvhx5nxmOytg1HOvSZ+KTab4Y/MI5NOs/XRZf0Evw2/1BEN6Tse3AH7iQkYf87GREHv0rFnQWaDNpJxKrbLAdVm9XPa0ZjledHmUZl3AxMRGJiYmIO/kw+goPzNwdhUTj75JS81HFI462Z+vHsRHDUVq14Riw+qeG74t0IgxH+3LkfWY4KnPVwrHgCGZ6+OLWD3bjwZkjMbhPF/j69ETwY8eRUf0v4epTpV9GYuf1bWqPQnVfh5+v1D+NqkdR5L+wYVIQ2hnn8x+6AC+cyjT8w9rSC3rlObw4SKDj2p/r/TdTj8LwPdi5+wekll5suB0lFm7XqOrKCbywaAQ6uRkudhw092l8k1bVcLuqkvHJiq5oM2ALvsk0cyzIqnC0sG1V5/G3EQK+S44hX193NS9jiPDHyq/2m97HFv9mOuT/8RqWDPWDEAKeQTfh8U/3Yll7N0w+kNPYA6P2duNewRDhjUXf1cveohO41csVE9/5Ai/OHwBvISDcumLyw0eRrgVQcBgz2vph0buvYWEPF7iNexeXtYA280e8umIUurQREMINAUPn4smvL5uEkpJ56mtyGTOPM4vze/hi4Xvv4P9uvBYDurZD247X44GvY3D6r8sxYXhfBHr7oN+C1xFRordqnY3+nTTmHscW/zyKMBylxXCsxnC0L0feZ4ajMlctHIu+xQIvAdf+a3HwUgUAPQpOb0Z30RNbz5QZFqn7HruyM3ighwsGVR8hqf/+u/IwPNpHwG/uOwjLqYCmOAlH7u0H4bcER/P0lsNRn4vDi30hOi7A6z+loLyxQ1v1t8PS7QJARQxevtYNfje/hp8v5yHv0ik8d31buF//JhKy62yXLgenHhgMjx6340BKI4dlrQlHi9umwcW3xsDVdzGOVW8rKhHz/CCIzhvwc1q9+9jS36zwR6wLFAhY/D5iiqpQnHgEj9zQBW7CFdMOWT4C12Q4egu0HTAbzx+/gPySbES8Oxd+ojvu/V8ZUHgc870E2g1din/8loLcwnLoKuPwt3Ee8L9lB06nlkNXlYPQdxehk9sQPBNZXn2DludpuJFNL1P/cWZpfuN96j7iYXyfowP0OTi2MgBCdEHwX8NQrAe0KR9imkdbTP8003DEVeE6m3xu1X8c2wjDUVoMx2qOFo552jynGo68z8+mPYutKVtbvJ67L9/NcFSkfjiewK1eAoNfiq194So4illt6pyStCYcoUFxViquFNcepSsPexS9RT/DRYAKTiFqc37GjmXDDEe02vXBuDmr8fCOvTh9sQQ1bwdv8IJr4XYBlIc+jF6iNx4Lr42RsoSv8Z+PvkNylnG7vkpF+KsT4dNpPv6d0MRFi8ZwbOp9gbVHHC1vmzblP5jo7otFR/MM93lFNJ7pL9Bz658oq38fW/ibFf+yHp1EPzwVVbv9xT+vR6BQdoFN00ccBfo+EVH7KSD5h3CTmzA8VozTez0Ugup7uDzsEQS5DsErcXWyqCoO24e6oueDhvmUzFOfxWXqPc4szm/c9mv+fgGGfypokfzuGAjXG3Gg+hNRKiLxZD8X9H8mChVWrLPJ5xbDkUwxHKs5Ujj2iOyBgPAApxreYd5234bGt80LnqGeLV6PCBEILw232eNEKXWEowsm7c+qfd+a8XfjP84whJpV4ViJlG+ex9JxfdDJxwMenl7wbCMgqoPNiveeaQou4LfDH2DHo2sw+7pOEMID1917GFe0MPOCa+F2Uf2FCxOwN9PMYcyCI5jpJtB/8TR0EG0xY98VNHnNojEc3ae+jV8jIxFZd4R8hXuC6oaj5W2D7gr2TPOA761HkKcHKiKfRF8XY/yZDcfG/2ZZB6dAiMn4NLt2P/XZn2KyTcLRBRMbe6zUf9wAyD90U80FTvWH28wjKFA4T30Wl6n3OLM4v/E0/NTPco23oEPGx+Ph2n4lfqj+dJXKWLw02BV9tkWgXPE6LTy3GI5kiuFYzZHCkRyLrU5V24tqwrHuBQ8tCMeq+Ncw2q0NRm07jqQSQz5URDyBvs0IR1OVuLR3IfxEd9z3Z1mD7bB4uwDyD02HqxiPjzPMJKExHIXveCy/qRNEtzU42tTHXVhxqlrJtgE6ZH02C96+C3Ektwxhj/WG27BXEVfV8D5u+m+WjsxPJ0OIKThY9+2MOQcxxUbh2Ohjxcx0Q1zdgN3pjd+XSuaxehmz4djE/NXh+Hme8RfV4bgKPzYZjpbWaeG5xXAkMo/hSI1hOCojSzjmfTkNLmIS9td84YEWqbuD4a4wHKsu7sfWZWvwTlzD08SGoPHBslNFDbbD4u0CKA95CL1EN9zze2ntOhMP4tWXPkBk2mHMdHNB8Oe50BX+gocGCLRfsAcpmgabYWBFOCrZNgDQ5x7GQj8/LP7iFB4Kaosxb100fLybVeGYgcIfb4e/GIQX6nw9bsmv/4cudgjH8vDH0Ft0xJof66xLX4HMxFQU65TPU5/FZeqfqrY0fzPCUdk6GY4OLxGJ+L/M/8O69HUc6etwT/o9SKlMsfefheFIjWI4KuMw4VgRgW19BDqs/BrJ+QUoyzWNmtJfN6Kz6IzVX6WhSleGS9++gIUTRqG98MPyb/KgtxCO+qLf8PBAARG0GC8d/AUxl64gI+0iIk+9jwdu8ILosgbf5uoabEfOfy3cLgBUROOF4S7wGP8cTl7MQU7iKbwc3A7uY15DfLbpdpVGvIRR7p6Y8o9489/qZUU4WrxPahYswInbOsFv5CR09p6MD1KN74m0Mhy1OYex2Feg652fIKFEg5LEQ3hoYhDaCGVHem0ZjqiMw44xbnAdthWHL5ZCpy1C3IGN6O/WBet+KKi5yMTiPA03sullzFwc0+T8zQhHZeu08Nyq/3yy0Yc5MhytsDZ9LUSIwMjUkRypI9Enrg96RvW095+F4UiNYjgq4zDhiDJEvDwZ7YWA8J2FT+K/Mo0aTRoO3T/e8O1bwgf9bnkKxy9F441p/hCiE1Z8ecDiqWpN1i/YefdMDO/iWfOesTYdB2LKna/gm8vVGVdvO1JSmr7dE4a8q0o5jCdmDYSvEBDCG/1v2YbDKWY+jgeVSNg1Dd5uI/BsSEnDeLHmqmpL98mJ2jUUnV6DjkLA4+ZPUXNG3cpw1EGD9GOPYVpPw0e9tBswDy989T6mubnhptYORwCajFN4acl1CDR+9rF372Bs+TAaxXrr5mnwJ2hqGTP/QGly/uaEo6J1Wnhu1X8cW3G6vikMRyusTV+LkakjsYk/2IRN2FK8xSGii+FIjWE4KsPvqiaraEpRXFXn8waT38VoF3/ccdqZ323vPBiOVmA4mv4wHMnRMRyVYTiSYmVn8GAvgYCF7yE8txKaongc3NgHIuA2HMt1+O98IRtgOFqB4Wj6w3AkR8dwVIbhSMrpURj6NlaP7QJ3ISBEG3QZvRKv/5bX9EcMkWowHK3AcDT9YTiSo2M4KsNwJCKlGI5WYDia/jAcHZtO8zVWRQj4XfwBhvdfVyE5/1HMiO6CzpFd0TnyOizP+BWGj6TVIb9kBxad9UfbUC/4R12PddmxKLU4zbExHJVhOBKRUgxHKzAcTX8Yjo4sE4cuBiEw0hMdjeGorfoIN4b1wpaiXOgAVFb8BzPDA7G6qAh67SncFdkBc7JjUQod8ktexNjw4XiurKLJaY6O4agMw5GIlGI4WoHhaPrDcHRUWmTkr0Sfc09gT8ogdDGGY1nJA+gVPg/Hqz/LS5+A12I8MSrrMvILl6Jj1H34X82blPJwOMEf/VIjkNXENHPf8+pIGI7KMBzRgm+dsaFGPnJGSpbuT0e4v6lZGI5WYDia/jAcHZO26nMsjxqN58vyEZU2uCYc9dqTWBPVHSvzLqMSepSW/QNTI0bgL2UlSMy8Ft6xe5BRs5YKRKcNgE/8FwhvdNoh5Nth/xrzVuZbeDz1cZMRHB+M8bHjTX73Zuab9t5UxRiO5umzv8KCdgLCPRgfptroU42bDBktMn94G+/8lAUb3Zp5DEcHokP20TsRKASGvhqPKgCAHiUxu3HPtH7Gz+oU8O0/DffsPouSOn8wXd7veGPVGHRpIyCEGzqPWom//5pbc/GQpemOjuFoBVuF48bcORjS1fBhrdeFrzedql+H5QdHoe9YH+MVawIuAX7oeuf1mH3ZdN5156bj2jkdjF9oL+DeIxD9X5yN2ysb3qY18zIcJaa/goOJQRh9JQJlqEB0nXAEtMgs2IxBIQLu4e3gGuKN8Wm/Ih+ViLkyCN7xh1D7n/AqnM8YBu/YD/Fzo9PqxqT9PZryqNnIqj+2Jm+196YqxnA0R4NL74yHV/f5WNy7LYa/Gmebr1NrKmT0mfhkmi8G2/ir2xpgODoMXfZR3NnVFe51w7H4F9zdVaDTsvcRmaeBvioHYe8uQIDohs2/Gj/DUpuG/fN84TpwE/acuYT0y6HYv2UI3HxmY0+q1vJ0CTAcrWCTcNTdhTnrvY3fWFA/HDfgtne6w00IeM68DlO+nIt5P8zG9L8NQScPAdGxP27O3GiYM2kqerYTEL6dMfiFyQh+fyJGrQiAqxBot242VuvqrNWKeRmOMtPiSt4SBJ17EZGG75syCceK8pcxJmIMni3OgQZAZdUx3BMdgJuyLyDBzFHFyNR+8Dn/JSIanfa1Qx1xPFN6RlE4/lr8q703VTGGoxkVUXhmgBsGPBuKqB3XwK3nA/hf3Su1Co5gpocvbv1gNx6cORKD+3SBr09PBD92HBk1r8s65P++A4sG+0IIAc8ek3H/f3biRnMho7mInde3qfmWGdF9HX42NkJlyhE8PX8YOrgJCOECvwEzsPWTBJQBQO5nmOrqjdlvvYn1k4dhQO9A+Pj1x+y//IDsxvrA+A0jE9/5Ai/OHwBvISDcumLyw0eRXrOMHkWR/8KGSUFoZ9wm/6EL8MKpTGirzuNvIwR8lxxDfp3yrIx9GUOEP1Z+Z9g3beaPeHXFqJojXgFD5+LJry83EsVN3F7NPJbuT0XH7t8AACAASURBVAX3d8FhzGjrh0XvvoaFPVzgNu5dXNZa2FZ9IcLevgvXdzd+C5CLPwbP3obDqVXGTbcwvTG6bBxb3Q2dZj+HLQPca8JRe3kXRgk/3PZ9ce28hd9gnofA6HeSoQWgSXwTI107YvX3db7zp+hHrOnkiuveuIByC9Mb+/pyR8JwtELLw3Ej7joxBN6iDTrP8WkYjpXLMHaggPDrhzkFpsut2tkJQgh03X8nNmEN5t7uASH8MTpsnUmUzr7LE0L4YVRk9XqtmZfhKLdsHDzfHm3D/BEQHoCA8AD4hAiIEC90jnsR32WOgmfMa0ioeUEpwx+Xu8P7/BGkFa1EYNQW/FFzriQLB8/7YWBaNHKamOZol8f0je7bZDT2jOoJvUTHchiODRWdXo/ObiPx+oUqaC+/hwlt/LHieJ3vZC76Fgu8BFz7r8XBSxUA9Cg4vRndRU9sPVNmnOcnbOgs0HHpbsSW6FCV/Sf+eWtPiMa+b7nsDB7o4YJBdY84lkfhuWEu8Jr0In5MK4euKgd/vnkzfEVfPHKmzBBCbgKixx34LLkKgA55p7eir/DHCpPvkK67cydwq7dA2wGz8fzxC8gvyUbEu3PhJ7rj3v8Zt708DI/2EfCb+w7CciqgKU7CkXv7QfgtwdG8Klx8awxcfRfjWF71LVQi5vlBEJ034OdiAJVx+Ns4D/jfsgOnUw3bHfruInRyG4JnIs28a7nJ29Mruz+V3N+FxzHfS6Dd0KX4x28pyC0sh87Ctlae/QsGuXTD2s8voFirRWnqz9gxvT0CFn2NHD0sTjdPh+xjq9Gt43zsuxiNlwbXhqPhvvNEx1vfRVhOFXRVOYj492IEek/AG+cNj4zCY/Pg6ToVB7Lr3IA+B5/d6AaPOUeQYmG6Yx5/NcVwtEJLw3Fj7hwM7irQZu6NWPhWJzPhuBzjBguIDoMwv9g0HO/4uAuEcEH3g6uxqWgu+vsJiFGTsFJjehvrzlyDdkLA9/ElWI9N1s3LcFQZ0yOORUV3ITBsIl4vK4UegE77K54464EhV86iQvsTNkV2wM1ZZ1ECDbKKHsfw8JHYXl4JNDXNwVg6XS3TaWqA4diALhOfzfFG26kfIlVr+P8HZ3nDY9rHSKs+/FV0Ard6CQx+KbY28gqOYlab2lPApb9sQKDoiyciav/pUxH1NPoJF8XhWPbnfeguuuP+P8tq5ysPw6NBAl3u/g2lBUcw002g7xMRtf/AqozFy0ME/O84DbNfzmfcdpNl8g/hJjdR5/S1BsVZqbhSXHu8rzzsUfQW/fBUZAW0Kf/BRHdfLDpqjNOKaDzTX6Dn1j9RBqA87BEEuQ7BK3F1nr9Vcdg+1BU9Hwwxc8Fb07cHBfenovvbuO+9HqrdBkvbmvfHPegmgnD/9zm1Rz/1upooL7Mw3Rxd9jGs7tYBc/ekQFMZaxqOADRph7B5uFvtEWiXgVj76WXjdB2u7L4BLj5LcdLkq7iL8f0KP7iM+w/CP2xq+vtIk+CNjgxHK7QoHHV3Yc46b4h2vXBj8nqsesdMOGIDVu0OQhvhgg73TcfitLVYX7YGq36bioFBAqL3MMzL24QNcdfDXwh4blyIdfVvJ3cmursKiEnTcafeunkZjmpT/z2OufglYzlGRgagY0QgOkQEYcKlD3FOpwegR2HpG1ge0xU+oa7wjJyALbmJxhevpqY5Fkunq2U6TQ0wHOvTXHwLY93aYd6X1RGlR/6JlfB3uRZ/O298aa9+n+D+rDpHIQ2/G/9xBnQAcj+bAiEmYG9mnYTI+wLBLsrDMfezqRBiPD7OqHvkKAv7JwmIyZ8iO98QjpMP5NRZUQ4OTBYQE/cjy1y9GLdzYhPbDlQi5ZvnsXRcH3Ty8YCHp5fxveu98Vh4OaC7gj3TPOB76xHk6YGKyCfR16UfnooyPGPzD90E1+roqTfcZpo74mXh9hTcn4ru7wb7qWBbq5Kwd/VAuAqBgKE34ratO/DJH1dq/8FgaXp9xlPUAbM/QrIGQL1w1Bf/gW3XeKHHbf/CmcwK6CqzEPbhagS17Yt7ThdADx3SGw1HXwvh6MtwVKPmh+NG3HViMLyFO3q+vwobsLGRcNyETViPlV9cg06epk8SzxljMS/L8P7Gdb8NhZcQaP/CMmyof1sl8zEoQEAMGYflldbNy3AkNWjsdLVsp6kBhqOpckQ80ddsRAgh0OuhM4b3Fpq7wKRelOQcmNwwZHIOYooVRxxzPw82hmOdV3p9FvZNFBCTDyDHXDhWh+WkT5DdRDg2te1V8a9htFsbjNp2HEklhtuuiHgCfWtCToesz2bB23chjuSWIeyx3nAb9irijF1tiLEbsDtdWaFYvj3L96ei+9vMvivbVh1KLv2OL3Y+jfWzhqKdcMO1235DoV7p9Nr5sr+5C906zMFHycZ3GtYLx6KTS+EjRmHX5TpvUtWm4t9jBbwWfItCAIXfzIeX21R8ml3vHxRTXOE57xhSLEznqWqVaW44Vp+idrtpqvF0cWPhuBF3nR6JTm0F3McNxcTP52LB6dmY/soABLQRcJ80FouKNmHdT4PgIQQCdqxoGIOlCzG0s4DoPxpLK6ybtznhOCJmBA7mHbTreC3jNYgQZQ9HhqP6NXa6WrbT1ADD0UThKazuKNBj8zHEJiYisWbE4dRjAyACVuFEvl5RfJX8fBc6iL54MrL2uHl56MPoZc2p6jMPoIfohi1/1LkypywED/YU6Hbv/1BmPFXd+9Gw2tO/FZF4sq9Ax7U/N3Gquultz/tyGlzEJOyvOWSpReruYLjXCTl97mEs9PPD4i9O4aGgthjz1sWaiy7Kwx9Db9ERa36sc8hLX4HMxFQUm+kzJbdn6f5UdH+b2XeL26opREZGaZ2PsdHgwhsjIPxvx4/FCqabKMDhmYZT0O5t2qBNmzZo4+5q/IeJKzwH3IuTXy+ApxiJt5LqXMKivYxdowU85n2DQgCapJ0Y49YBd5yqvfhFn38cK/zdMPbtJJRbmM6LY1SmWeGoW40567wgPLpjysXqdGskHMsW4ZqeAqL7MMwvNElPrD7UF22FQIdXl2PNb8MMRxGfN38UcWCAgBh6PZZXbcI6K+ZtTjj2iuqFZYnL7DoWXliIXVm7FP0NGY7q19jpatlOUwMMx1o6pH9yMzxFnVPSdWgu7cINbh6Yse8KdAriS1/wHW4PEOiw+D+IyqtAadrP+OusnnATrph2yEw4VkRgWx+BDiu/RnJ+Acq0ACrO4sURrvCa9Ap+yayEviobv++Yhnauw/BcVLnh6m53ARG0CG+H5UOrL0PCnuXoKDpi9amCxi+OsbDtpb9uRGfRGau/SkOVrgyXvn0BCyeMQnvhh+U1F90U4MRtneA3chI6e0/GB3U/5qUyDjvGuMF12FYcvlgKnbYIcQc2or9bF6z7oeF2Kbk9S/enovvb3L43ua05uLhrAjz8Z+ONX1JRqtOhMicKu1cEwnX4y4it1CCpyen173w9yrNTkZycXDsufI9H+rqi/+M/IjEtD+Xpn2Ohr0D32z9EZK4Gem0BYvatRS/hh0VfZBoCVZeBzxf7w3XgRuPH7ZzB7rV94RKwDF9l6ixPlwDD0QrWh+NG3PXtYHgJN3R7cynuKl6LtcVrsbZ4DZa/2RFC+GDEL6uxtngdNqL2/Yhtb5+HtfXXlTUdXYSAmDwdd8TdgAAh4Ll2QcP3LWbPQDcXATH1JqzWb8KGeOXzNiccZYsuhqNzqH+6WsbT1ADDsUbVBbw+SqBt3Ytg6tJl4rM5XnAZ+ToSci3HF6BF9g9/wex+XoYjTF0n4J4PPsQSPzdMOZhj5gbKEPHyZLQXAsJ3Fj4xnjqtTD6MJ+cMgb+rgBBu6DB8AZ45mmI4KllwBDPdXTHln//GfZN7op2LgPAegPmv/ILcxvpAQThCk4ZD949HoPEj3frd8hSOX4rGG9P8IUQnrDhhOJJVdHoNOgoBj5s/RUa929NknMJLS65DoLvhNL9372Bs+TAaxeaeIopuz9L9qeD+buQzLJvc1srLOPT4LAxqX32hSnsMvOl+7I01XABocbolDS6O0SH/zC5smNKn5qOJ2vWehPW7ziC/zn2sKwjBztVj0cVdQIg26HbDWrwbXlhzm5amOzqGoxWsD8d1WLDes9H35NSOrpiRuwkbYsfBXwi0WdEwHDdeCUZnISAm34TVRfMxqIOAuGY8bqt3pHDdL0NM39NYbMW8DEdSifqnq2U8TQ0wHKXm4B9wTdRcDEcrNOeI45qEWzH/9Px6Yx5mbPWDEJ7o/685mP/fpVit2YRNRfMwsIOA6Dq0wanqOw8GwV0ItH92KdZjLRZs8jIcsfy1TmJq78BNC9pAiI4YH1+dgtbMy3Akdah/ulrG09QAw1FqDEdSKYajFWz3XdWNXRyzAbe90wPuwnBxzPh9szDnu1swbfsgdGgjIDoPwM3phiurN16ZgX4dBYRXRwx8diKmvjse1843fCq//2MLsbbOqWdr5mU4klpUn66W9TQ1wHCUGsORVIrhaIWrH46bsEm/DrcdGoN+1/ugTfV3Vfv7odva8Zh7xfTI4PqLN2P0oo7wamuYr03frhjyzwVYrW14i9bMy3AkNag+XS3raWqA4UhEjofhaAXbhaM6fhiO5MiqT1fLepoaYDgSkeNhOFqB4Wj6w3AkRzclboq0p6kBhiMROR6GoxUYjqY/DMeGosqi7P6B6By145+Z/7TJer7K/8pmjxFrMByJyNEwHK3AcDT9YTg2JEKE3T8QvbWHT1g7u2/D1R4iROCdrHds9jhRiuFIRI6G4WgFhqPpD8OxIaVffagmzrDP21K3YXv69la/XYYjETkahqMVGI6mPwzHhpwhoupzhn1mOBIRGTAcrcBwNP1hODbkDBFVnzPsM8ORiMiA4WgFhqPpD8OxIWeIqPqcYZ8ZjkREBgxHKzAcTX8Yjg05Q0TV5wz7zHAkIjJgOFrh7vS7Mej8IGwp3cJRugW3Z96OkedG2vvPYhV7huPZ8rPYlbXLIcebmW8irTLNJvscVRaFkNIQ6UeuJrdmnxiOREQGDEcrxJbHokNEB4w5N4bj3Bj0juqN1zNet/efxSr2DMeB0QMRGBFo97+buSFCBDpFdGrxPp8oPAERIuy+P7Z4bPeN7luzXwxHIiIDhiM5FXuG46CzgxBVFmWz27Kl1zJeg09Yu2YtW3efd2XtwubLm221WXZzufIygqKCav4/w5GIyIDhSE7F8cOxAikn/44NNw1Fp7YCQggIr64Ycctm/PN0OqpstowphqMphiMRkXkMR3IqDh2O+mKEvDIJXqI2/gYOH4zuXsb/LzpgwQdJpiHYnGXMYDiaYjgSEZnHcCSn4sjhWBb2BAYIASE6Y/E74SjQGSdUpuHbR0bARQgIn1vxVZauRcuYw3A0xXAkIjKP4UhOxXHDsRS/bAiEEAL+K75Brr7e5JJfcXdXASG8sehEYQuWMY/haMoZwzEoKAgnT57k4ODgaHIwHMmpOG44liH+8zfw/LZteCu0uOFkfQY+Hm84/Tz+4wzomr2Mea0ajvp4vHq2YQyJkOH4W0XtSXWd9ne8cXEMuoQKiBA3dD63En8vzq3ZD0vTlc5jjrOFY25uLiZMmIAZM2ZwcHBwNDk2b27+wQGGI0nHccPRgqo4bB8qIEQ7LPmuyObLtGo46s5ga5Qrhl75FRcrk5FcMzJQXH3UVJ+G/Qm+cI3ehD2ll5BeGYr9l4fAPWw29lRpLU9Xso4mOFs4EhG1BoYjSUfWcCwNfQL9hYDwXYzDOfXPSbd8mdYNxx+wMtwdwXm5jc6iqXgTI0M6YnVRnVPs2h+xJsIV12VeQLmF6RoF69A0sYkMRyIi22M4knRkDEd9wa94fKiAEG64/u9xqLwKy7RqOGoPYXqoCwYnLsOk6AB4hvqhx7nF+EtBSs12FhbMg2fIVBzQ1A3eHHwW7wbPhCNIsTC9QME6CprYRIYjEZHtMRxJOrKFo67wT2yf6g0hBAJu/QiXFHwoY3OWac1w1FXtxS0R7THgwvM4WByFc6Un8HbSQLiG9McjJSUAdLiScwNcw5bipMkZ5WJ8n+gH19j/ILzJ6e8jzeI63kdTX7DIcCQisj2GI0lHpnCsSjuM+4a7GgJw7i7ElFo+Rd2cZQAHuKpaF4bHogT8Er9HMXRIbzT6fC2Eo29NODa9DoYjEVFrYziSdOQIRz1Kz/0Li7sYrogOuv1jXCi/GsvUsns4Ig9fxAuIuH3IAlBYMB/eoVPxqclp5izsj3OFZ8IxpFiYXqBgHTxVTUTUuhiOJB3HD0c9SiL+jmntBIRoi3FP/oDspi8AbuYyplozHMvK3sY9l57FKU2dD8XRncFDUQIdk35GCQBN5U6MCe2AO+pc2KLXHseKcDeMzUpCuYXpGgXr4MUxRESti+FI0nH0cKy6vAeLAgSE8MPM18NrP57GxsvU15rhqK3ag9lhAoEX3sSPFenIqPwfPr48FK4hw/FsWfVh0gx8fsEfrtEbjR+lcwa7k/rCNXwZvtLoFExXso7GMRyJiGyP4UjScehwrIzHG+PdIYQbxr4YqiwAm7OMGa17qlqH/JKdWBPbA54hAiLEHZ1jluKlwnSTo4A6bQh2Jo01fnh3G3SLXYt3SwuhVzhd6TzmMByJiGyP4UjScdxw1CL1oxnwEAJu4/+BBAVXQjdvGfPs/x5Hx8JwJCKyPYYjScdhw7EqHq8ON1zYItr3Qr9+/RoZAzD2nv+ipLnLNILhaIrhSERkewxHko7DhmN5GB4JMkaghdFm9jEUNneZRjAcTTEciYhsj+FI0nHYcLQzhqMphiMRke0xHEk6DEfzGI6mGI5ERLbHcCTp2DMcPUM9EBQVhPGx4x1ueIZ6wDvMq8X7vDd3L0SIwKZLmxxizE6YjZvP32z1cvMS5qFtaNua/WI4EhG1HMORpGPPcPwo9yPcEHuDw46Q0hCb7PO+3H14L/s9hxiLLizCrPOzmrVsQkVCzT4xHImIWo7hSNKxZziqlSPv8/b07diWuq3F62E4EhG1nOO+WhA1guFoe468zwxHIiLH4bivFkSNYDjaniPvM8ORiMhxOO6rBVEjGI6258j7zHAkInIcjvtqQdQIhqPtOfI+MxyJiByH475aEDWiNcLx1fRXnWo48j7POj8LN8bf2OL1eIZ5MhyJiFqI4UjSudrhuD93Px5PfdypxgPJD9h9GxobwfHBGB87vsXreSz1MZTrym32OFGK4UhEasJwJOlc7XAkx2KrU9X2wnAkIjVhOJJ0GI7OheFIROQ4GI4kHYajc2E4EhE5DoYjSYfh6FwYjkREjoPhSNJhODoXhiMRkeNgOJJ0GI7OheFIROQ4GI4kHYajc2E4EhE5DoYjSYfh6FwYjkREjoPhSNJhODoXhiMRkeNgOJJ0nDEcdZqvsSpCwO/iDygGAFQhteAJ3BLtC9cQN3hHTcVD+cmoMsyN/JIdWHTWH21DveAfdT3WZcei1OI0x8RwJCJyHAxHko7zhWMmDl0MQmCkJzoaw1FT+S4mhXXF7bkJKEUlUvI3oU/YRLxdoYFeewp3RXbAnOxYlEKH/JIXMTZ8OJ4rq2hymqNiOBIROQ6GI0nHucJRi4z8lehz7gnsSRmELhd/QDH0yMkLhnf0U4jSG2fTJ+O9c94YlZWEvMKl6Bh1H/6nq15HHg4n+KNfagSympjW+t/irAzDkYjIcTAcSTrOFI7aqs+xPGo0ni/LR1Ta4DrhOA3e0U8gojockYcv4z0ReOk0ojOvhXfsHmTUrKUC0WkD4BP/BcIbnXYI+a27a4oxHImIHAfDkaTjNOGov4KDiUEYfSUCZahAdE04AprKf2FKWCCW5sShVF+Gy4XbMC5MwP/idzhzZRC84w+hoGZFVTifMQzesR/i50an1Y1Jx8JwJCJyHAxHko5zhKMWV/KWIOjci4jUAagXjkAVUvIfwfRoP3iHdcF1iS/grwmB6J38O86ZOaoYmdoPPue/RESj077mEcerhOFIRGrCcCTpOEc4ZuPg+fZoG+aPgPAABIQHwCdEQIR4oXPcyzirrze7Pg7bY/xxc142iopWIjBqC/6oeR9jFg6e98PAtGjkNDHNUS+PYTgSETkOhiNJxznCsT7TI466qoNYHD0aTxTnQosSnM2ai06Rq/GtVg9of8KmyA64OessSqBBVtHjGB4+EtvLK5ue5qAYjkREjoPhSNJhOAJAKWKyb8c14W5wDW2LjjEr8VZpIQwHIvUoLH0Dy2O6wifUFZ6RE7AlN9F4RLGpaY6J4UhE5DgYjiQd5wxH5/Bc2nNYlrjMZIyIGYEhZ4eY/O6ptKfsvamKMRyJSE0YjiQdhqN6vZL+itnIqj/+cuUv9t5UxRiORKQmDEeSDsNRvc5XnFcUjjHlMfbeVMUYjkSkJgxHkg7DUd1GnRvVZDQOjxlu7020CsORiNSE4UjSYTiqm6XT1TKdpgYYjkSkLgxHkg7DUd0sna6W6TQ1wHAkInVhOJJ0GI7q19jpatlOUwMMRyJSF4YjSYfhqH6Nna6W7TQ1wHAkInVhOJJ0GI7q19jpatlOUwMMRyJSF4YjSYfh6Bzqn66W8TQ1wHAkInVhOJJ0GI7Oof7pahlPUwMMRyJSF4YjSYfh6Bzqn66W8TQ1wHAkInVhOJJ0rnY45mpykViRyOEAY9jZYRAhAgOjB7Z4XUmVSTZ7jFiD4UhEasJwJOlc7XAUIQL9ovs51fAL97P7NpgbHSI6QIQIBEQEtHhdIkTgeOFxmz1OlGI4EpGaMBxJOq0Rjs7GUfe5+nS1LU5Tb0vdhu3p222wVdZhOBKRmjjmqwVRExiOtufI+3zHxTtssh6GIxFRyznuqwVRIxiOtufI+5yrybXJehiOREQt57ivFkSNYDjanjPsM8ORiKjl1P9qQarDcLQ9Z9hnhiMRUcup/9WCVIfhaHvOsM8MRyKillP/qwWpjj3DcXbCbMPHw4QHONwQIQKvpr/a4n0OKw1z2H20ZriHumF6/PSa/WI4EhG1HMORpGPPcBx8djB+Kv4Jedo8hxs7s3ZiReKKFu/zrqxdWHVxld33p6UjoiwCXSO71uwXw5GIqOUYjiQde4bjiJgRiCqLUrQeXd7veH1BNwghIAY8h7MVV2eZavty92HVxVXKF6ijfjhuvry5WetxJJcrLyMoKqjm/zMciYhajuFI0nH8cNQi99cdmNtFGAJQUQQ2ZxlTDEdTDEciIttjOJJ0HDoc9UUI+/scBAoB4T4Cdz14M9pbisDmLGMGw9EUw5GIyPYYjiQdhw7HqvP46zABl8Hrsfd8GUp+24TOliKwOcuYoYpw1B7BzFBXTM8vMP3fzcBwJCKyPYYjScehw1GTiqP/2I+zJXoAQKmSCGzOMmYwHE0xHImIbI/hSNJx6HCspzkRyHBkOBIROSqGI0mH4Wie3cNRewQzQ31xa85uPHh+JAZHdYFvWE8Epx5HhuFgKvSafZgY4oF5hYW1y2k+w5Tq3zEciYgcGsORpMNwNM/+4fgtFoQJuEavxcHKCgB6FBRtRveQnthaWgaA4chwJCLZMRxJOgxH8+wfjidwa5jA4CuxqKz53VHMCnXBpNxs6MFwZDgSkewYjiQdhqN5jhGOLpiUmwV9vd+Nz8mADgxHhiMRyY7hSNJhOJrnOOGYbWU4HsBkhiMRkRQYjiQdhqN5MoSj4eiiO24uqI3ByvKXMYThSEQkBYYjSYfhaJ4U4ag7gwciBbpcOok8ANAn4dOk/nAP8cS8AoYjEZGjYziSdBiO5kkRjtDgSsGDmBjpCc+IHugfMx0P5HyAxeFtMaOggOFIROTgGI4kHYajeXYPRwfDcCQisj2GI0nHkcOx7MyTmDyoH/r1M4y+XdtCCAEh2qF739rfX7f+exS1YBlzGI6mGI5ERLbHcCTpOHI4Fp++A/5CGMOviRH8JfJbsIw5DEdTDEciIttjOJJ0HDkc7YnhaIrhSERkewxHkg7D0TyGoymGIxGR7TEcSTr2DEfvMC/cm3wv3st+z+FGcHwwZp2f1eJ93pW1C+3D29t9f1o6nkp7ymS/GI5ERC3HcCTp2DMcTxaexPpL67Hp0iaHG2uS1iC+PL7F+1yhr8D9yffbfX9aOjZc2oDvCr+r2S+GIxFRyzEcSTr2DEe1coZ9ZjgSEbWc+l8tSHUYjrbnDPvMcCQiajn1v1qQ6jAcbc8Z9pnhSETUcup/tSDVYTjanjPsM8ORiKjl1P9qQarDcLQ9Z9hnhiMRUcup/9WCVKc1wjGkNMSphjPs86zzsxiOREQtxHAk6VztcFx4YSHGnBvjVGNg9EC7b8PVHj0ieyCpMslmjxOlGI5EpCYMR5LO1Q5HIltiOBKRmjAcSToMR5IJw5GI1IThSNJhOJJMGI5EpCYMR5IOw5FkwnAkIjVhOJJ0GI4kE4YjEakJw5Gkw3AkmTAciUhNGI4kHacJR+23WBhWPziG4LmyCgA65JfswKKz/mgb6gX/qOuxLjsWpUALptHVwHAkIjVhOJJ0nCYcNQcwJew6/LNC02CSXnsKd0V2wJzsWJRCh/ySFzE2fDieK6to9jS6OhiORKQmDEeSjrOEo7ZyJ0aGTcInGn2DaUWFS9Ex6j78T1f9mzwcTvBHv9QIZDVzWvlV3yPnxHAkIjVhOJJ0nCUcK8qexcDQbgiOH4rAME/4RI7E8vTTyNZrkJh5Lbxj9yCjdm5Epw2AT/wXCG/WtEPIb9W9cx4MRyJSE4YjScdZwrGqYi+2Jt2LnUUpKEcVMotfRXCYD27JvYToK4PgHX8IBbVz43zGMHjHfoifmzWtbkySLTEciUhNGI4kHWcJx4ZK8culzvA+fwiRZo4cRqb2g8/5LxHRrGlf84jjVcJwJCI1YTiSdJwjHPWoqArHzyXJdd57WIzTSZ3ge+FbpBetRGDUFvxR817FLBw874eBadHIaeY0Xh5zdTAciUhN8KNB9QAAAgFJREFUGI4kHecIR6CwaA06h47Cs8VZ0ECDnJK/YmpYABbnZ0Gn/QmbIjvg5qyzKIEGWUWPY3j4SGwvrwSaO42uCoYjEakJw5Gk4yzhCOTjj8zbcG2EO0SIC9pGXIfbMn5DHgBAj8LSN7A8pit8Ql3hGTkBW3ITjUcNmzuNrgaGIxGpCcORpOM84UhqwHAkIjVhOJJ0GI4kE4YjEakJw5GkYy4cx8eOR542j4PD4ca6S+sYjkSkGgxHko65cOSw7ege2d3u26D2wXAkIhkxHEk6DMerPxiOV38wHIlIRgxHks6Yc2Mw9OxQDD472O4v/modDMerM3pH9cbQs0Mx9OxQJFcm2/upRERkNYYjSeeamGsgQgT8wv3sHgJqHQzHqzPGxY6DCBFwD3VHobbQ3k8lIiKrMRxJOntz98I1xIXheBUHw/HqjOpwfDDlQXs/jYiImoXhSFL6rvA7bLq0CcsSl3FchbE2aa3dt0GNY2vKVnyQ8wH00Nv7KURE1CwMRyIiIiJShOFIRERERIowHImIiIhIEYYjERERESnCcCQiIiIiRRiORERERKQIw5GIiIiIFGE4EhEREZEiDEciIiIiUoThSERERESKMByJiIiISBGGIxEREREpwnAkIiIiIkUYjkRERESkCMORiIiIiBRhOBIRERGRIgxHIiIiIlLk/wEUfhtNLoTL8gAAAABJRU5ErkJggg==)\n",
        "\n",
        " ![image.png](data:image/png;base64,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)\n",
        "\n",
        " ![image.png](data:image/png;base64,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)"
      ],
      "metadata": {
        "id": "rJO38zsMYsq6"
      }
    },
    {
      "cell_type": "code",
      "source": [
        "class Node:\n",
        "   def __init__(self, value):\n",
        "      self.value = value\n",
        "      self.next = None\n",
        " \n",
        "class Stack:\n",
        "    \n",
        "   # Initializing a stack. \n",
        "   # Use a dummy node, which is \n",
        "   # easier for handling edge cases. \n",
        "   def __init__(self):\n",
        "      self.head = Node(\"head\")\n",
        "      self.size = 0\n",
        " \n",
        "   # String representation of the stack\n",
        "   def __str__(self):\n",
        "      cur = self.head.next\n",
        "      out = \"\"\n",
        "      while cur:\n",
        "         out += str(cur.value) + \"->\"\n",
        "         cur = cur.next\n",
        "      return out[:-3]   \n",
        " \n",
        "   # Get the current size of the stack\n",
        "   def getSize(self):\n",
        "      return self.size\n",
        "    \n",
        "   # Check if the stack is empty\n",
        "   def isEmpty(self):\n",
        "      return self.size == 0\n",
        "    \n",
        "   # Get the top item of the stack\n",
        "   def peek(self):\n",
        "       \n",
        "      # Sanitary check to see if we \n",
        "      # are peeking an empty stack. \n",
        "      if self.isEmpty():\n",
        "         raise Exception(\"Peeking from an empty stack\")\n",
        "      return self.head.next.value\n",
        " \n",
        "   # Push a value into the stack. \n",
        "   def push(self, value):\n",
        "      node = Node(value)\n",
        "      node.next = self.head.next\n",
        "      self.head.next = node\n",
        "      self.size += 1\n",
        "      \n",
        "   # Remove a value from the stack and return. \n",
        "   def pop(self):\n",
        "      if self.isEmpty():\n",
        "         raise Exception(\"Popping from an empty stack\")\n",
        "      remove = self.head.next\n",
        "      self.head.next = self.head.next.next\n",
        "      self.size -= 1\n",
        "      return remove.value\n",
        " \n",
        "# Driver Code\n",
        "stack = Stack()\n",
        "for i in range(1, 11):\n",
        "  stack.push(i)\n",
        "print(f\"Stack: {stack}\")\n",
        " \n",
        "for _ in range(1, 6):\n",
        "      remove = stack.pop()\n",
        "      print(f\"Pop: {remove}\")\n",
        "print(f\"Stack: {stack}\")\n"
      ],
      "metadata": {
        "colab": {
          "base_uri": "https://localhost:8080/"
        },
        "id": "fTmbGqtFfQXN",
        "outputId": "5a1f7c1f-93ad-41b8-ec11-9dde5474e815"
      },
      "execution_count": null,
      "outputs": [
        {
          "output_type": "stream",
          "name": "stdout",
          "text": [
            "Stack: 10->9->8->7->6->5->4->3->2->\n",
            "Pop: 10\n",
            "Pop: 9\n",
            "Pop: 8\n",
            "Pop: 7\n",
            "Pop: 6\n",
            "Stack: 5->4->3->2->\n"
          ]
        }
      ]
    }
  ]
}